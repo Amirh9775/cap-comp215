{
  "nbformat": 4,
  "nbformat_minor": 0,
  "metadata": {
    "colab": {
      "name": "Project - Comp215.ipynb",
      "provenance": [],
      "authorship_tag": "ABX9TyPxldPcNRahH+t0nJS87SIe",
      "include_colab_link": true
    },
    "kernelspec": {
      "name": "python3",
      "display_name": "Python 3"
    },
    "language_info": {
      "name": "python"
    }
  },
  "cells": [
    {
      "cell_type": "markdown",
      "metadata": {
        "id": "view-in-github",
        "colab_type": "text"
      },
      "source": [
        "<a href=\"https://colab.research.google.com/github/Amirh9775/cap-comp215/blob/main/Project1_Comp215.ipynb\" target=\"_parent\"><img src=\"https://colab.research.google.com/assets/colab-badge.svg\" alt=\"Open In Colab\"/></a>"
      ]
    },
    {
      "cell_type": "markdown",
      "source": [
        "Comp 215, Amir Hemmat\n",
        "\n",
        "Project: Game of life"
      ],
      "metadata": {
        "id": "Rtkdzj0Do8Oo"
      }
    },
    {
      "cell_type": "code",
      "source": [
        "import json, requests\n",
        "import matplotlib.pyplot as plt\n",
        "from pprint import pprint\n",
        "import os\n",
        "import re\n",
        "from genericpath import exists\n",
        "from scipy.signal import correlate2d"
      ],
      "metadata": {
        "id": "S5Ka-L_fkLVz"
      },
      "execution_count": 2,
      "outputs": []
    },
    {
      "cell_type": "code",
      "source": [
        ""
      ],
      "metadata": {
        "id": "wJv8roA6nI6S"
      },
      "execution_count": 2,
      "outputs": []
    },
    {
      "cell_type": "code",
      "execution_count": 3,
      "metadata": {
        "id": "GoKNIJ0mEknz",
        "colab": {
          "base_uri": "https://localhost:8080/"
        },
        "outputId": "303320ce-0a9c-4a82-b268-eafc1464f341"
      },
      "outputs": [
        {
          "output_type": "stream",
          "name": "stdout",
          "text": [
            "--2022-03-14 18:37:06--  https://raw.githubusercontent.com/AllenDowney/ThinkComplexity2/master/notebooks/utils.py\n",
            "Resolving raw.githubusercontent.com (raw.githubusercontent.com)... 185.199.111.133, 185.199.110.133, 185.199.108.133, ...\n",
            "Connecting to raw.githubusercontent.com (raw.githubusercontent.com)|185.199.111.133|:443... connected.\n",
            "HTTP request sent, awaiting response... 200 OK\n",
            "Length: 2645 (2.6K) [text/plain]\n",
            "Saving to: ‘utils.py’\n",
            "\n",
            "\rutils.py              0%[                    ]       0  --.-KB/s               \rutils.py            100%[===================>]   2.58K  --.-KB/s    in 0s      \n",
            "\n",
            "2022-03-14 18:37:06 (35.4 MB/s) - ‘utils.py’ saved [2645/2645]\n",
            "\n",
            "--2022-03-14 18:37:06--  https://raw.githubusercontent.com/pearcej/complex-colab/master/notebooks/Cell2D.py\n",
            "Resolving raw.githubusercontent.com (raw.githubusercontent.com)... 185.199.111.133, 185.199.110.133, 185.199.108.133, ...\n",
            "Connecting to raw.githubusercontent.com (raw.githubusercontent.com)|185.199.111.133|:443... connected.\n",
            "HTTP request sent, awaiting response... 200 OK\n",
            "Length: 2628 (2.6K) [text/plain]\n",
            "Saving to: ‘Cell2D.py’\n",
            "\n",
            "Cell2D.py           100%[===================>]   2.57K  --.-KB/s    in 0s      \n",
            "\n",
            "2022-03-14 18:37:06 (36.8 MB/s) - ‘Cell2D.py’ saved [2628/2628]\n",
            "\n"
          ]
        }
      ],
      "source": [
        "%matplotlib inline\n",
        "\n",
        "import os\n",
        "if not os.path.exists('utils.py'):\n",
        "  !wget https://raw.githubusercontent.com/AllenDowney/ThinkComplexity2/master/notebooks/utils.py\n",
        "if not os.path.exists('Cell2D.py'):\n",
        "  !wget  https://raw.githubusercontent.com/pearcej/complex-colab/master/notebooks/Cell2D.py\n",
        "\n",
        "import matplotlib.pyplot as plt\n",
        "import numpy as np\n",
        "import seaborn as sns\n",
        "import numpy as np\n",
        "import matplotlib.pyplot as plt\n",
        "from time import sleep\n",
        "from IPython.display import clear_output\n",
        "\n",
        "from utils import underride\n"
      ]
    },
    {
      "cell_type": "markdown",
      "source": [
        "Read file:  https://conwaylife.com/patterns"
      ],
      "metadata": {
        "id": "Eu3viD5bfSm9"
      }
    },
    {
      "cell_type": "code",
      "source": [
        "PATTERN_SITE = 'https://conwaylife.com/patterns'\n",
        "PATTERNS = ('glider','lwss', 'mwss', 'hwss', '3-engine Cordership gun')\n",
        "\n",
        "FOLDER = 'patterns'\n",
        "if not os.path.exists(FOLDER):\n",
        "  os.mkdir(FOLDER)\n",
        "\n",
        "def getPatternFile(patternName):\n",
        "  \"\"\" Loads the RLE file for the given pattern name from the PATTERN_SITE\"\"\"\n",
        "  patternFile = '{name}.rle'.format(name = patternName)\n",
        "  url = os.path.join(PATTERN_SITE, patternFile)\n",
        "  response = requests.request(\"GET\", url, headers={}, data={})\n",
        "  with open(os.path.join(FOLDER, patternFile), 'w') as outfile:\n",
        "    outfile.write(response.text)\n",
        "  return patternFile\n",
        "\n",
        "pattern_files = {\n",
        "    pattern : getPatternFile(pattern) for pattern in PATTERNS\n",
        "}"
      ],
      "metadata": {
        "id": "7xF_GvZL5z-4"
      },
      "execution_count": 4,
      "outputs": []
    },
    {
      "cell_type": "markdown",
      "source": [
        "### Copied From Graham's Code"
      ],
      "metadata": {
        "id": "A-LqC1Ns6G7T"
      }
    },
    {
      "cell_type": "code",
      "source": [
        "def extract_RLE_string(name):\n",
        "  \"\"\"\n",
        "  Retrives the rle format string for the initial cell states of desired pattern\n",
        "  \"\"\"\n",
        "\n",
        "  with open(('/content/patterns/{name}.rle').format(name=name), 'r') as file:\n",
        "    num_lines = sum(1 for line in file)\n",
        "    if num_lines <= 6:\n",
        "     file.seek(0, 0)\n",
        "     pattern = file.readlines()[-1]\n",
        "     return pattern\n",
        "    else:\n",
        "      print('error, file too long') #TODO add long file case\n",
        "    return\n",
        "\n",
        "extract_RLE_string('glider')\n",
        "\n",
        "def RLE_to_add_cells(name):\n",
        "  \"\"\"\n",
        "  read the input string and convert in to an np.array kernal to overlay into initail cell2D state\n",
        "  \"\"\"\n",
        "  RLE_string = makeStrTrueLen(extract_RLE_string(name))\n",
        "  RLE_string = RLE_string.replace('b', '0')\n",
        "  RLE_string= RLE_string.replace('o', '1')\n",
        "  RLE_string= RLE_string.replace('!', '')\n",
        "\n",
        "  \n",
        "  strParts = RLE_string.split('$')\n",
        "  if len(strParts[0]) != len(strParts[-1]):\n",
        "    strParts[-1] += '0'\n",
        "  #print(strParts)\n",
        "  #for i, s in enumerate(strParts):\n",
        "    #print(i,s)\n",
        "  return strParts\n",
        "    \n",
        "  \"\"\"\n",
        "  # removed to simplify usage with Cell2D object, returns list of strings to use\n",
        "  #with Cell2D.add_cells method\n",
        "\n",
        "  array = np.zeros((len(strParts), len(strParts[0])), np.uint8)\n",
        " \n",
        "  for i, s in enumerate(strParts):\n",
        "    array[i] = [int(c) for c in s]\n",
        "    print(s)\n",
        "  print(array)\n",
        "  \"\"\"\n",
        "#format retrieved string to remove digit stored repeated values\n",
        "def makeStrTrueLen(s):\n",
        "  s_list = list(s)\n",
        "  #get index location of ints in s_list, store in num_location --DONE--\n",
        "  numLocation = []\n",
        "  for i in range(len(s_list)):\n",
        "    if str(s_list[i]).isdigit() == True:\n",
        "      numLocation.append(i)\n",
        "  \n",
        "  #read through num location, take value of int, char in s_list n+1 and \n",
        "  #replace the int in num location with (int-1)*char of n+1 \n",
        "  counter = 0\n",
        "  for counter in range(len(numLocation)):\n",
        "    index = numLocation[counter]\n",
        "    multiplyer = s_list[index]\n",
        "    s_list[index] = s_list[index + 1] * (int(multiplyer) - 1)\n",
        "\n",
        "  trueLenRLE = ''.join(s_list)\n",
        "  #print(trueLenRLE)\n",
        "\n",
        "  return trueLenRLE\n",
        "\n",
        "\n",
        "print(RLE_to_add_cells('glider'))\n",
        "RLE_to_add_cells('lwss')"
      ],
      "metadata": {
        "colab": {
          "base_uri": "https://localhost:8080/"
        },
        "id": "ZaRaMGmU59PO",
        "outputId": "f7cceccc-1c60-45cc-8b4d-7efb13535406"
      },
      "execution_count": 5,
      "outputs": [
        {
          "output_type": "stream",
          "name": "stdout",
          "text": [
            "['010', '001', '111']\n"
          ]
        },
        {
          "output_type": "execute_result",
          "data": {
            "text/plain": [
              "['01001', '10000', '10001', '11110']"
            ]
          },
          "metadata": {},
          "execution_count": 5
        }
      ]
    },
    {
      "cell_type": "code",
      "source": [
        "import matplotlib.pyplot as plt\n",
        "import numpy as np\n",
        "import seaborn as sns\n",
        "#from utils import decorate\n",
        "from scipy.signal import correlate2d\n",
        "#from Cell2D import Cell2D\n",
        "\n"
      ],
      "metadata": {
        "id": "dTPBdNQG6NZD"
      },
      "execution_count": 6,
      "outputs": []
    },
    {
      "cell_type": "code",
      "source": [
        "class Cell2D:\n",
        "    \"\"\"Parent class for 2-D cellular automata.\"\"\"\n",
        "\n",
        "    def __init__(self, n, m):\n",
        "        \"\"\"Initializes the attributes.\n",
        "        n: number of rows\n",
        "        m: number of columns\n",
        "        \"\"\"\n",
        "        m = n if m is None else m\n",
        "        self.array = np.zeros((n, m), np.uint8)\n",
        "        #self.colos=colos\n",
        "\n",
        "    def add_cells(self, row, col, *strings):\n",
        "        \"\"\"Adds cells at the given location.\n",
        "        row: top row index\n",
        "        col: left col index\n",
        "        strings: list of strings of 0s and 1s\n",
        "        \"\"\"\n",
        "        for i, s in enumerate(strings):\n",
        "            self.array[row+i, col:col+len(s)] = np.array([int(b) for b in s])\n",
        "\n",
        "    def loop(self, iters=1):\n",
        "        \"\"\"Runs the given number of steps.\"\"\"\n",
        "        for i in range(iters):\n",
        "            self.step()\n",
        "\n",
        "    def draw(self,colos, **options):\n",
        "        \"\"\"Draws the array.\n",
        "        \"\"\"\n",
        "        draw_array(self.array,colos, **options)\n",
        "\n",
        "    def animate(self, frames, interval=None, step=None):\n",
        "        \"\"\"Animate the automaton.\n",
        "        \n",
        "        frames: number of frames to draw\n",
        "        interval: time between frames in seconds\n",
        "        iters: number of steps between frames\n",
        "        \"\"\"\n",
        "        if step is None:\n",
        "            step = self.step\n",
        "            \n",
        "        plt.figure()\n",
        "        try:\n",
        "            for i in range(frames-1):\n",
        "                self.draw()\n",
        "                plt.show()\n",
        "                if interval:\n",
        "                    sleep(interval)\n",
        "                step()\n",
        "                clear_output(wait=True)\n",
        "            self.draw()\n",
        "            plt.show()\n",
        "        except KeyboardInterrupt:\n",
        "            pass\n",
        "        \n",
        "\n",
        "def draw_array(array,colos, **options):\n",
        "    \"\"\"Draws the cells.\"\"\"\n",
        "    n, m = array.shape\n",
        "    options = underride(options,\n",
        "                        cmap=colos,\n",
        "                        alpha=0.7,\n",
        "                        vmin=0, vmax=1, \n",
        "                        interpolation='none', \n",
        "                        origin='upper',\n",
        "                        extent=[0, m, 0, n])\n",
        "\n",
        "    plt.axis([0, m, 0, n])\n",
        "    plt.xticks([])\n",
        "    plt.yticks([])\n",
        "\n",
        "    return plt.imshow(array, **options)"
      ],
      "metadata": {
        "id": "-G7GHl9_rkuN"
      },
      "execution_count": 7,
      "outputs": []
    },
    {
      "cell_type": "code",
      "source": [
        "\n",
        "\n",
        "class Life(Cell2D):\n",
        "    \"\"\"Implementation of Conway's Game of Life.\"\"\"\n",
        "    kernel = np.array([[1, 1, 1],\n",
        "                       [1,10, 1],\n",
        "                       [1, 1, 1]])\n",
        "\n",
        "    table = np.zeros(20, dtype=np.uint8)\n",
        "    table[[3, 12, 13]] = 1\n",
        "\n",
        "    def step(self):\n",
        "        \"\"\"Executes one time step.\"\"\"\n",
        "        c = correlate2d(self.array, self.kernel, mode='same')\n",
        "        self.array = self.table[c]\n",
        "\n",
        "def make_life(n, m, row, col,colos, *strings):\n",
        "    \"\"\"Makes a Life object.\n",
        "    \n",
        "    n, m: rows and columns of the Life array\n",
        "    row, col: upper left coordinate of the cells to be added\n",
        "    strings: list of strings of '0' and '1'\n",
        "    \"\"\"\n",
        "    life = Life(n, m)\n",
        "    life.add_cells(row, col, *strings)\n",
        "    return life\n",
        "\n"
      ],
      "metadata": {
        "id": "WPavBy7Jr4Io"
      },
      "execution_count": 8,
      "outputs": []
    },
    {
      "cell_type": "markdown",
      "source": [
        "###Collision beetween two array "
      ],
      "metadata": {
        "id": "Pzq8nRZCsWvb"
      }
    },
    {
      "cell_type": "code",
      "source": [
        "def collision(a,b):\n",
        "  for (i,j) in a:\n",
        "    if a[i,j] == b[i,j]:\n",
        "      a[i,j]=10\n",
        "      b[i,j]=10\n",
        "  return a,b"
      ],
      "metadata": {
        "id": "_3eOTyhlsWHh"
      },
      "execution_count": 9,
      "outputs": []
    },
    {
      "cell_type": "code",
      "source": [
        "plt.figure(figsize=(15, 15))\n",
        "plt.subplot(1, 1 , 1)\n",
        "\n",
        "\n",
        "print(b)\n",
        "\n",
        "#for (i,j) in b:\n",
        "  #print(i,j)\n",
        "\n",
        "\n",
        "n=len(RLE_to_add_cells('glider'))\n",
        "m=len(RLE_to_add_cells('glider')[0])\n",
        "#print(n,m)\n",
        "glider=RLE_to_add_cells('glider')\n",
        "print(glider)\n",
        "a=make_life(n,m,0,0,'Greens', *glider)\n",
        "#type(RLE_to_add_cells('glider'))\n",
        "#a\n",
        "a.draw('Greens')\n",
        "#a.step()\n",
        "print(a)\n",
        "lwss=RLE_to_add_cells('lwss')\n",
        "print(lwss)\n",
        "b=make_life(len(RLE_to_add_cells('lwss')),len(RLE_to_add_cells('lwss')[0]),0,0,'Blues', *lwss)\n",
        "b.draw('Blues')\n",
        "b[0]"
      ],
      "metadata": {
        "colab": {
          "base_uri": "https://localhost:8080/",
          "height": 963
        },
        "id": "btR0y3gH_iJz",
        "outputId": "5053bce4-01be-47ac-8674-937199eb554e"
      },
      "execution_count": 45,
      "outputs": [
        {
          "output_type": "stream",
          "name": "stdout",
          "text": [
            "<__main__.Life object at 0x7f9b682486d0>\n",
            "['010', '001', '111']\n",
            "<__main__.Life object at 0x7f9b68433110>\n",
            "['01001', '10000', '10001', '11110']\n"
          ]
        },
        {
          "output_type": "error",
          "ename": "TypeError",
          "evalue": "ignored",
          "traceback": [
            "\u001b[0;31m---------------------------------------------------------------------------\u001b[0m",
            "\u001b[0;31mTypeError\u001b[0m                                 Traceback (most recent call last)",
            "\u001b[0;32m<ipython-input-45-e31545f533d4>\u001b[0m in \u001b[0;36m<module>\u001b[0;34m()\u001b[0m\n\u001b[1;32m     24\u001b[0m \u001b[0mb\u001b[0m\u001b[0;34m=\u001b[0m\u001b[0mmake_life\u001b[0m\u001b[0;34m(\u001b[0m\u001b[0mlen\u001b[0m\u001b[0;34m(\u001b[0m\u001b[0mRLE_to_add_cells\u001b[0m\u001b[0;34m(\u001b[0m\u001b[0;34m'lwss'\u001b[0m\u001b[0;34m)\u001b[0m\u001b[0;34m)\u001b[0m\u001b[0;34m,\u001b[0m\u001b[0mlen\u001b[0m\u001b[0;34m(\u001b[0m\u001b[0mRLE_to_add_cells\u001b[0m\u001b[0;34m(\u001b[0m\u001b[0;34m'lwss'\u001b[0m\u001b[0;34m)\u001b[0m\u001b[0;34m[\u001b[0m\u001b[0;36m0\u001b[0m\u001b[0;34m]\u001b[0m\u001b[0;34m)\u001b[0m\u001b[0;34m,\u001b[0m\u001b[0;36m0\u001b[0m\u001b[0;34m,\u001b[0m\u001b[0;36m0\u001b[0m\u001b[0;34m,\u001b[0m\u001b[0;34m'Blues'\u001b[0m\u001b[0;34m,\u001b[0m \u001b[0;34m*\u001b[0m\u001b[0mlwss\u001b[0m\u001b[0;34m)\u001b[0m\u001b[0;34m\u001b[0m\u001b[0;34m\u001b[0m\u001b[0m\n\u001b[1;32m     25\u001b[0m \u001b[0mb\u001b[0m\u001b[0;34m.\u001b[0m\u001b[0mdraw\u001b[0m\u001b[0;34m(\u001b[0m\u001b[0;34m'Blues'\u001b[0m\u001b[0;34m)\u001b[0m\u001b[0;34m\u001b[0m\u001b[0;34m\u001b[0m\u001b[0m\n\u001b[0;32m---> 26\u001b[0;31m \u001b[0mb\u001b[0m\u001b[0;34m[\u001b[0m\u001b[0;36m0\u001b[0m\u001b[0;34m]\u001b[0m\u001b[0;34m\u001b[0m\u001b[0;34m\u001b[0m\u001b[0m\n\u001b[0m",
            "\u001b[0;31mTypeError\u001b[0m: 'Life' object is not subscriptable"
          ]
        },
        {
          "output_type": "display_data",
          "data": {
            "text/plain": [
              "<Figure size 1080x1080 with 1 Axes>"
            ],
            "image/png": "[encoded data removed]"
          },
          "metadata": {}
        }
      ]
    }
  ]
}