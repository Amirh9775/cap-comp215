{
  "nbformat": 4,
  "nbformat_minor": 0,
  "metadata": {
    "colab": {
      "name": "Project - Comp215.ipynb",
      "provenance": [],
      "authorship_tag": "ABX9TyN7d2i9OUyfr4faTEa3M83N",
      "include_colab_link": true
    },
    "kernelspec": {
      "name": "python3",
      "display_name": "Python 3"
    },
    "language_info": {
      "name": "python"
    }
  },
  "cells": [
    {
      "cell_type": "markdown",
      "metadata": {
        "id": "view-in-github",
        "colab_type": "text"
      },
      "source": [
        "<a href=\"https://colab.research.google.com/github/Amirh9775/cap-comp215/blob/main/Project_Comp215.ipynb\" target=\"_parent\"><img src=\"https://colab.research.google.com/assets/colab-badge.svg\" alt=\"Open In Colab\"/></a>"
      ]
    },
    {
      "cell_type": "markdown",
      "source": [
        "Comp 215, Amir Hemmat\n",
        "\n",
        "Project: Game of life"
      ],
      "metadata": {
        "id": "Rtkdzj0Do8Oo"
      }
    },
    {
      "cell_type": "code",
      "source": [
        "import json, requests\n",
        "import matplotlib.pyplot as plt\n",
        "from pprint import pprint\n",
        "import os\n",
        "import re\n",
        "from genericpath import exists\n",
        "from scipy.signal import correlate2d"
      ],
      "metadata": {
        "id": "S5Ka-L_fkLVz"
      },
      "execution_count": 1,
      "outputs": []
    },
    {
      "cell_type": "code",
      "source": [
        ""
      ],
      "metadata": {
        "id": "wJv8roA6nI6S"
      },
      "execution_count": 1,
      "outputs": []
    },
    {
      "cell_type": "code",
      "execution_count": 2,
      "metadata": {
        "id": "GoKNIJ0mEknz",
        "colab": {
          "base_uri": "https://localhost:8080/"
        },
        "outputId": "c2072423-d2c3-424c-d0b2-8c1ea16f0c22"
      },
      "outputs": [
        {
          "output_type": "stream",
          "name": "stdout",
          "text": [
            "--2022-03-21 07:36:38--  https://raw.githubusercontent.com/AllenDowney/ThinkComplexity2/master/notebooks/utils.py\n",
            "Resolving raw.githubusercontent.com (raw.githubusercontent.com)... 185.199.111.133, 185.199.110.133, 185.199.109.133, ...\n",
            "Connecting to raw.githubusercontent.com (raw.githubusercontent.com)|185.199.111.133|:443... connected.\n",
            "HTTP request sent, awaiting response... 200 OK\n",
            "Length: 2645 (2.6K) [text/plain]\n",
            "Saving to: ‘utils.py’\n",
            "\n",
            "\rutils.py              0%[                    ]       0  --.-KB/s               \rutils.py            100%[===================>]   2.58K  --.-KB/s    in 0s      \n",
            "\n",
            "2022-03-21 07:36:38 (39.2 MB/s) - ‘utils.py’ saved [2645/2645]\n",
            "\n",
            "--2022-03-21 07:36:38--  https://raw.githubusercontent.com/pearcej/complex-colab/master/notebooks/Cell2D.py\n",
            "Resolving raw.githubusercontent.com (raw.githubusercontent.com)... 185.199.108.133, 185.199.109.133, 185.199.110.133, ...\n",
            "Connecting to raw.githubusercontent.com (raw.githubusercontent.com)|185.199.108.133|:443... connected.\n",
            "HTTP request sent, awaiting response... 200 OK\n",
            "Length: 2628 (2.6K) [text/plain]\n",
            "Saving to: ‘Cell2D.py’\n",
            "\n",
            "Cell2D.py           100%[===================>]   2.57K  --.-KB/s    in 0s      \n",
            "\n",
            "2022-03-21 07:36:38 (32.1 MB/s) - ‘Cell2D.py’ saved [2628/2628]\n",
            "\n"
          ]
        }
      ],
      "source": [
        "%matplotlib inline\n",
        "\n",
        "import os\n",
        "if not os.path.exists('utils.py'):\n",
        "  !wget https://raw.githubusercontent.com/AllenDowney/ThinkComplexity2/master/notebooks/utils.py\n",
        "if not os.path.exists('Cell2D.py'):\n",
        "  !wget  https://raw.githubusercontent.com/pearcej/complex-colab/master/notebooks/Cell2D.py\n",
        "\n",
        "import matplotlib.pyplot as plt\n",
        "import numpy as np\n",
        "import seaborn as sns\n",
        "import numpy as np\n",
        "import matplotlib.pyplot as plt\n",
        "from time import sleep\n",
        "from IPython.display import clear_output\n",
        "\n",
        "from utils import underride\n"
      ]
    },
    {
      "cell_type": "markdown",
      "source": [
        "Read file:  https://conwaylife.com/patterns"
      ],
      "metadata": {
        "id": "Eu3viD5bfSm9"
      }
    },
    {
      "cell_type": "code",
      "source": [
        "PATTERN_SITE = 'https://conwaylife.com/patterns'\n",
        "PATTERNS = ('glider','lwss', 'mwss', 'hwss', '3-engine Cordership gun')\n",
        "\n",
        "FOLDER = 'patterns'\n",
        "if not os.path.exists(FOLDER):\n",
        "  os.mkdir(FOLDER)\n",
        "\n",
        "def getPatternFile(patternName):\n",
        "  \"\"\" Loads the RLE file for the given pattern name from the PATTERN_SITE\"\"\"\n",
        "  patternFile = '{name}.rle'.format(name = patternName)\n",
        "  url = os.path.join(PATTERN_SITE, patternFile)\n",
        "  response = requests.request(\"GET\", url, headers={}, data={})\n",
        "  with open(os.path.join(FOLDER, patternFile), 'w') as outfile:\n",
        "    outfile.write(response.text)\n",
        "  return patternFile\n",
        "\n",
        "pattern_files = {\n",
        "    pattern : getPatternFile(pattern) for pattern in PATTERNS\n",
        "}"
      ],
      "metadata": {
        "id": "7xF_GvZL5z-4"
      },
      "execution_count": 3,
      "outputs": []
    },
    {
      "cell_type": "markdown",
      "source": [
        "### Copied From Graham's Code"
      ],
      "metadata": {
        "id": "A-LqC1Ns6G7T"
      }
    },
    {
      "cell_type": "code",
      "source": [
        "def extract_RLE_string(name):\n",
        "  \"\"\"\n",
        "  Retrives the rle format string for the initial cell states of desired pattern\n",
        "  \"\"\"\n",
        "\n",
        "  with open(('/content/patterns/{name}.rle').format(name=name), 'r') as file:\n",
        "    num_lines = sum(1 for line in file)\n",
        "    if num_lines <= 6:\n",
        "     file.seek(0, 0)\n",
        "     pattern = file.readlines()[-1]\n",
        "     return pattern\n",
        "    else:\n",
        "      print('error, file too long') #TODO add long file case\n",
        "    return\n",
        "\n",
        "extract_RLE_string('glider')\n",
        "\n",
        "def RLE_to_add_cells(name):\n",
        "  \"\"\"\n",
        "  read the input string and convert in to an np.array kernal to overlay into initail cell2D state\n",
        "  \"\"\"\n",
        "  RLE_string = makeStrTrueLen(extract_RLE_string(name))\n",
        "  RLE_string = RLE_string.replace('b', '0')\n",
        "  RLE_string= RLE_string.replace('o', '1')\n",
        "  RLE_string= RLE_string.replace('!', '')\n",
        "\n",
        "  \n",
        "  strParts = RLE_string.split('$')\n",
        "  if len(strParts[0]) != len(strParts[-1]):\n",
        "    strParts[-1] += '0'\n",
        "  #print(strParts)\n",
        "  #for i, s in enumerate(strParts):\n",
        "    #print(i,s)\n",
        "  return strParts\n",
        "    \n",
        "  \"\"\"\n",
        "  # removed to simplify usage with Cell2D object, returns list of strings to use\n",
        "  #with Cell2D.add_cells method\n",
        "\n",
        "  array = np.zeros((len(strParts), len(strParts[0])), np.uint8)\n",
        " \n",
        "  for i, s in enumerate(strParts):\n",
        "    array[i] = [int(c) for c in s]\n",
        "    print(s)\n",
        "  print(array)\n",
        "  \"\"\"\n",
        "#format retrieved string to remove digit stored repeated values\n",
        "def makeStrTrueLen(s):\n",
        "  s_list = list(s)\n",
        "  #get index location of ints in s_list, store in num_location --DONE--\n",
        "  numLocation = []\n",
        "  for i in range(len(s_list)):\n",
        "    if str(s_list[i]).isdigit() == True:\n",
        "      numLocation.append(i)\n",
        "  \n",
        "  #read through num location, take value of int, char in s_list n+1 and \n",
        "  #replace the int in num location with (int-1)*char of n+1 \n",
        "  counter = 0\n",
        "  for counter in range(len(numLocation)):\n",
        "    index = numLocation[counter]\n",
        "    multiplyer = s_list[index]\n",
        "    s_list[index] = s_list[index + 1] * (int(multiplyer) - 1)\n",
        "\n",
        "  trueLenRLE = ''.join(s_list)\n",
        "  #print(trueLenRLE)\n",
        "\n",
        "  return trueLenRLE\n",
        "\n",
        "\n",
        "print(RLE_to_add_cells('glider'))\n",
        "RLE_to_add_cells('lwss')"
      ],
      "metadata": {
        "colab": {
          "base_uri": "https://localhost:8080/"
        },
        "id": "ZaRaMGmU59PO",
        "outputId": "67390c59-9ca8-4f82-b10f-bdfd7604ec74"
      },
      "execution_count": 4,
      "outputs": [
        {
          "output_type": "stream",
          "name": "stdout",
          "text": [
            "['010', '001', '111']\n"
          ]
        },
        {
          "output_type": "execute_result",
          "data": {
            "text/plain": [
              "['01001', '10000', '10001', '11110']"
            ]
          },
          "metadata": {},
          "execution_count": 4
        }
      ]
    },
    {
      "cell_type": "code",
      "source": [
        "import matplotlib.pyplot as plt\n",
        "import numpy as np\n",
        "import seaborn as sns\n",
        "from utils import decorate\n",
        "from scipy.signal import correlate2d\n",
        "from Cell2D import Cell2D\n",
        "\n"
      ],
      "metadata": {
        "id": "dTPBdNQG6NZD"
      },
      "execution_count": 5,
      "outputs": []
    },
    {
      "cell_type": "markdown",
      "source": [
        "### Copied from previous labs with a little bit changes"
      ],
      "metadata": {
        "id": "Erilp_GN2mKJ"
      }
    },
    {
      "cell_type": "code",
      "source": [
        "class Cell2D:\n",
        "    \"\"\"Parent class for 2-D cellular automata.\"\"\"\n",
        "\n",
        "    def __init__(self, n, m):\n",
        "        \"\"\"Initializes the attributes.\n",
        "        n: number of rows\n",
        "        m: number of columns\n",
        "        \"\"\"\n",
        "        m = n if m is None else m\n",
        "        self.array = np.zeros((n, m), np.uint8)\n",
        "        #self.colos=colos\n",
        "\n",
        "    def add_cells(self, row, col, *strings):\n",
        "        \"\"\"Adds cells at the given location.\n",
        "        row: top row index\n",
        "        col: left col index\n",
        "        strings: list of strings of 0s and 1s\n",
        "        \"\"\"\n",
        "        for i, s in enumerate(strings):\n",
        "            self.array[row+i, col:col+len(s)] = np.array([int(b) for b in s])\n",
        "\n",
        "    def loop(self, iters=1):\n",
        "        \"\"\"Runs the given number of steps.\"\"\"\n",
        "        for i in range(iters):\n",
        "            self.step()\n",
        "\n",
        "    def draw(self,colos, **options):\n",
        "        \"\"\"Draws the array.\n",
        "        \"\"\"\n",
        "        draw_array(self.array,colos, **options)\n",
        "\n",
        "    def animate(self, frames, interval=None, step=None):\n",
        "        \"\"\"Animate the automaton.\n",
        "        \n",
        "        frames: number of frames to draw\n",
        "        interval: time between frames in seconds\n",
        "        iters: number of steps between frames\n",
        "        \"\"\"\n",
        "        if step is None:\n",
        "            step = self.step\n",
        "            \n",
        "        plt.figure()\n",
        "        try:\n",
        "            for i in range(frames-1):\n",
        "                self.draw()\n",
        "                plt.show()\n",
        "                if interval:\n",
        "                    sleep(interval)\n",
        "                step()\n",
        "                clear_output(wait=True)\n",
        "            self.draw()\n",
        "            plt.show()\n",
        "        except KeyboardInterrupt:\n",
        "            pass\n",
        "        \n",
        "\n",
        "def draw_array(array,colos, **options):\n",
        "    \"\"\"Draws the cells.\"\"\"\n",
        "    n, m = array.shape\n",
        "    options = underride(options,\n",
        "                        cmap=colos,\n",
        "                        alpha=0.7,\n",
        "                        vmin=0, vmax=1, \n",
        "                        interpolation='none', \n",
        "                        origin='upper',\n",
        "                        extent=[0, m, 0, n])\n",
        "\n",
        "    plt.axis([0, m, 0, n])\n",
        "    plt.xticks([])\n",
        "    plt.yticks([])\n",
        "\n",
        "    return plt.imshow(array, **options)"
      ],
      "metadata": {
        "id": "-G7GHl9_rkuN"
      },
      "execution_count": 6,
      "outputs": []
    },
    {
      "cell_type": "code",
      "source": [
        "\n",
        "class Life(Cell2D):\n",
        "    \"\"\"Implementation of Conway's Game of Life.\"\"\"\n",
        "    \n",
        "    kernel = np.array([[1, 1, 1],\n",
        "                       [1,10, 1],\n",
        "                       [1, 1, 1]])\n",
        "\n",
        "    table = np.zeros(20, dtype=np.uint8)\n",
        "    table[[3, 12, 13]] = 1\n",
        "\n",
        "    def step(self):\n",
        "        \"\"\"Executes one time step.\"\"\"\n",
        "        c = correlate2d(self.array, self.kernel, mode='same')\n",
        "        self.array = self.table[c]\n",
        "\n",
        "def make_life(n, m, row, col, *strings):\n",
        "    \"\"\"Makes a Life object.\n",
        "    \n",
        "    n, m: rows and columns of the Life array\n",
        "    row, col: upper left coordinate of the cells to be added\n",
        "    strings: list of strings of '0' and '1'\n",
        "    \"\"\"\n",
        "    life = Life(n, m)\n",
        "    life.add_cells(row, col, *strings)\n",
        "    return life\n",
        "\n"
      ],
      "metadata": {
        "id": "WPavBy7Jr4Io"
      },
      "execution_count": 7,
      "outputs": []
    },
    {
      "cell_type": "markdown",
      "source": [
        "###Collision beetween two array \n",
        "Going through both arrays and calculate if "
      ],
      "metadata": {
        "id": "Pzq8nRZCsWvb"
      }
    },
    {
      "cell_type": "code",
      "source": [
        "def collision(a,b,c):\n",
        "  if c==None:\n",
        "    for i in range(a.shape[0]):\n",
        "      for j in range(a.shape[1]):\n",
        "        if a[i,j] == b[i,j]:\n",
        "          a[i,j]=0\n",
        "          b[i,j]=0\n",
        "  else:\n",
        "    for i in range(a.shape[0]):\n",
        "      for j in range(a.shape[1]):\n",
        "        if a[i,j] == b[i,j]:\n",
        "          c[i,j]=a[i,j]\n",
        "          a[i,j]=0\n",
        "          b[i,j]=0\n",
        "\n",
        "\n",
        "  return a,b,c"
      ],
      "metadata": {
        "id": "_3eOTyhlsWHh"
      },
      "execution_count": 8,
      "outputs": []
    },
    {
      "cell_type": "code",
      "source": [
        "kernal = np.array([[1, 1, 1],\n",
        "                            [1,10, 1],\n",
        "                            [1, 1, 1]])\n",
        "        \n",
        "table = np.zeros(20, dtype=np.uint8)\n",
        "table[[3, 12, 13]] = 1\n",
        "class make_life_with_array():\n",
        "    #ust as a record, wanted to write this to make sure that I understood the whole content\n",
        "    \n",
        "    def __init__(self,n,m,table,kernal):\n",
        "        \n",
        "        self.array = np.zeros((n, m), np.uint8)\n",
        "        self.table=table\n",
        "        #self.color=colos\n",
        "        self.kernal=kernal\n",
        "\n",
        "    def step(self):\n",
        "        \"\"\"Executes one time step.\"\"\"\n",
        "        c = correlate2d(self.array, self.kernal, mode='same')\n",
        "        self.array = self.table[c]\n",
        "        return self.array\n",
        "\n",
        "    def draw(self,colos, **options):\n",
        "        \"\"\"Draws the array.\n",
        "        \"\"\"\n",
        "        draw_array(self.array,colos, **options)\n"
      ],
      "metadata": {
        "id": "fVNcYtmniq8D"
      },
      "execution_count": 9,
      "outputs": []
    },
    {
      "cell_type": "code",
      "source": [
        "plt.figure(figsize=(15, 15))\n",
        "plt.subplot(1, 7 , 1)\n",
        "n=len(RLE_to_add_cells('glider'))\n",
        "m=len(RLE_to_add_cells('glider')[0])\n",
        "glider=RLE_to_add_cells('glider')\n",
        "print(glider)\n",
        "a=make_life(n,m,0,0, *glider)\n",
        "\n",
        "a.draw('Greens')\n",
        "\n",
        "print(a)\n",
        "lwss=RLE_to_add_cells('lwss')\n",
        "print(lwss)\n",
        "b=make_life(len(RLE_to_add_cells('lwss')),len(RLE_to_add_cells('lwss')[0]),0,0, *lwss)\n",
        "b.draw('Blues')\n",
        "\n",
        "\n",
        "\n",
        "for i in range(2,7):\n",
        "  \n",
        "  a.step()\n",
        "  b.step()\n",
        "  plt.subplot(1, 7 , i)\n",
        "  a.draw('Greens')\n",
        "  #lif.draw('Oranges')\n",
        "  b.draw('Blues')\n",
        "  collision(a.array,b.array,None)\n",
        "  \n",
        "\n",
        "print('')\n",
        "\n",
        "\n",
        "\n"
      ],
      "metadata": {
        "id": "btR0y3gH_iJz",
        "colab": {
          "base_uri": "https://localhost:8080/",
          "height": 187
        },
        "outputId": "e3e413a7-caaa-4a58-8c20-f1c33589530e"
      },
      "execution_count": 10,
      "outputs": [
        {
          "output_type": "stream",
          "name": "stdout",
          "text": [
            "['010', '001', '111']\n",
            "<__main__.Life object at 0x7fe127bd9750>\n",
            "['01001', '10000', '10001', '11110']\n",
            "\n"
          ]
        },
        {
          "output_type": "display_data",
          "data": {
            "text/plain": [
              "<Figure size 1080x1080 with 6 Axes>"
            ],
            "image/png": "[encoded data removed]"
          },
          "metadata": {}
        }
      ]
    },
    {
      "cell_type": "markdown",
      "source": [
        "### Reversing its order\n",
        "##Graham's Idea"
      ],
      "metadata": {
        "id": "CJTmsZ71udY1"
      }
    },
    {
      "cell_type": "code",
      "source": [
        "Arr1=make_life(n,m,0,0, *glider)\n",
        "rev_glider=glider[::-1]\n",
        "Rev_arr1=a=make_life(n,m,0,0, *rev_glider)\n",
        "plt.subplot(1,6,1)\n",
        "Arr1.draw('Greens')\n",
        "plt.subplot(1,6,2)\n",
        "Rev_arr1.draw('Blues')\n",
        "print(glider)\n",
        "print(rev_glider)\n",
        "for i in range(3,7,2):\n",
        "  plt.subplot(1,6,i)\n",
        "  Arr1.step()\n",
        "  Arr1.draw('Greens')\n",
        "  plt.subplot(1,6,i+1)\n",
        "  Rev_arr1.step()\n",
        "  Rev_arr1.draw('Blues')"
      ],
      "metadata": {
        "colab": {
          "base_uri": "https://localhost:8080/",
          "height": 117
        },
        "id": "7-1eD1DsjIhU",
        "outputId": "fae19e7a-0e33-47b2-9654-71ed38ee835e"
      },
      "execution_count": 11,
      "outputs": [
        {
          "output_type": "stream",
          "name": "stdout",
          "text": [
            "['010', '001', '111']\n",
            "['111', '001', '010']\n"
          ]
        },
        {
          "output_type": "display_data",
          "data": {
            "text/plain": [
              "<Figure size 432x288 with 6 Axes>"
            ],
            "image/png": "[encoded data removed]"
          },
          "metadata": {}
        }
      ]
    }
  ]
}