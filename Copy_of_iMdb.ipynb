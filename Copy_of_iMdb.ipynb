{
  "nbformat": 4,
  "nbformat_minor": 0,
  "metadata": {
    "colab": {
      "name": "Copy of iMdb.ipynb",
      "provenance": [],
      "collapsed_sections": [],
      "include_colab_link": true
    },
    "kernelspec": {
      "name": "python3",
      "language": "python",
      "display_name": "Python 3 (ipykernel)"
    },
    "language_info": {
      "name": "python"
    }
  },
  "cells": [
    {
      "cell_type": "markdown",
      "metadata": {
        "id": "view-in-github",
        "colab_type": "text"
      },
      "source": [
        "<a href=\"https://colab.research.google.com/github/Amirh9775/cap-comp215/blob/main/Copy_of_iMdb.ipynb\" target=\"_parent\"><img src=\"https://colab.research.google.com/assets/colab-badge.svg\" alt=\"Open In Colab\"/></a>"
      ]
    },
    {
      "cell_type": "markdown",
      "source": [
        "COMP 215 - LAB 2\n",
        "----------------\n",
        "#### Name:\n",
        "#### Date:\n",
        "This lab exercise is mostly a review of strings, tuples, lists, dictionaries, and functions.\n",
        "We will also see how \"list comprehension\" provides a compact form for \"list accumulator\" algorithms.\n",
        "\n",
        "As usual, the first code cell simply imports all the modules we'll be using..."
      ],
      "metadata": {
        "id": "nbRPZPKZU5Pk"
      }
    },
    {
      "cell_type": "code",
      "execution_count": 2,
      "outputs": [],
      "source": [
        "import json, requests\n",
        "import matplotlib.pyplot as plt\n",
        "from pprint import pprint"
      ],
      "metadata": {
        "pycharm": {
          "name": "#%%\n"
        },
        "id": "D2bTEWo3BnUO"
      }
    },
    {
      "cell_type": "markdown",
      "source": [
        "We'll answer some questions about movies and TV shows with the IMDb database:  https://www.imdb.com/\n",
        "> using the IMDb API:  https://imdb-api.com/api\n",
        "\n",
        "You can register for your own API key, or simply use the one provided below.\n",
        "\n",
        "Here's an example query:\n",
        " *   search for TV Series with title == \"Lexx\""
      ],
      "metadata": {
        "collapsed": false,
        "pycharm": {
          "name": "#%% md\n"
        },
        "id": "QfVOmebYBnUQ"
      }
    },
    {
      "cell_type": "code",
      "execution_count": 3,
      "metadata": {
        "id": "JDGbYTySU3BP",
        "outputId": "54d20c50-f6e6-4236-f023-2ad7ca0707a4",
        "colab": {
          "base_uri": "https://localhost:8080/"
        }
      },
      "outputs": [
        {
          "output_type": "stream",
          "name": "stdout",
          "text": [
            "[{'description': '(1996) (TV Series)',\n",
            "  'id': 'tt0115243',\n",
            "  'image': 'https://imdb-api.com/images/original/MV5BOGFjMzQyMTYtMjQxNy00NjAyLWI2OWMtZGVhMjk4OGM3ZjE5XkEyXkFqcGdeQXVyNzMzMjU5NDY@._V1_Ratio0.7273_AL_.jpg',\n",
            "  'resultType': 'Title',\n",
            "  'title': 'Lexx'},\n",
            " {'description': '(2008) (Video)',\n",
            "  'id': 'tt1833738',\n",
            "  'image': 'https://imdb-api.com/images/original/MV5BMjAyMTYzNjk4NV5BMl5BanBnXkFtZTcwNzE4MTU0NA@@._V1_Ratio0.7273_AL_.jpg',\n",
            "  'resultType': 'Title',\n",
            "  'title': 'Lexx'},\n",
            " {'description': '(2018)',\n",
            "  'id': 'tt10800568',\n",
            "  'image': 'https://imdb-api.com/images/original/MV5BZWY5ODYwNzYtMmIyMS00YzhhLTg0OTAtODM1M2I5YzkxMzY1XkEyXkFqcGdeQXVyMTEwNDU1MzEy._V1_Ratio0.7273_AL_.jpg',\n",
            "  'resultType': 'Title',\n",
            "  'title': 'Lexxy Roxx: Lexy 360 - Der Film'},\n",
            " {'description': '(2014) (Short)',\n",
            "  'id': 'tt4396272',\n",
            "  'image': 'https://imdb-api.com/images/original/nopicture.jpg',\n",
            "  'resultType': 'Title',\n",
            "  'title': 'Lexxxus'},\n",
            " {'description': '(2016) (Video) aka \"Lexxzibé Inonime Nirek & Elmaniak: La '\n",
            "                 'Belle Et La Bête (2016)\"',\n",
            "  'id': 'tt14690226',\n",
            "  'image': 'https://imdb-api.com/images/original/MV5BN2NmNGYxZTgtYjg3MC00ZDZhLTk1ODUtM2E4NGYwYzQ3YTFiXkEyXkFqcGdeQXVyMTA2NzA1NDYz._V1_Ratio1.7727_AL_.jpg',\n",
            "  'resultType': 'Title',\n",
            "  'title': 'Mauvais augure feat. Nirek & Ced (Elmaniak) Auger: La Belle Et La '\n",
            "           'Bête'},\n",
            " {'description': '(2018) (Short)',\n",
            "  'id': 'tt12646262',\n",
            "  'image': 'https://imdb-api.com/images/original/MV5BODczYTEwNTctYzAzYy00YjIzLThkNGQtMDdjYmU5NjI1MzAxXkEyXkFqcGdeQXVyMTIwNjM2NTQz._V1_Ratio2.3182_AL_.jpg',\n",
            "  'resultType': 'Title',\n",
            "  'title': 'Lexxe - Red Velvet'},\n",
            " {'description': '(2020) (TV Series)',\n",
            "  'id': 'tt6964748',\n",
            "  'image': 'https://imdb-api.com/images/original/MV5BOTg4ZmQ5ZjItZTllZC00NzUzLTkwMTEtMjIzYzliZjk2ODUwXkEyXkFqcGdeQXVyMTEyMjM2NDc2._V1_Ratio0.7273_AL_.jpg',\n",
            "  'resultType': 'Title',\n",
            "  'title': 'Alex Rider'},\n",
            " {'description': '(2004)',\n",
            "  'id': 'tt0346491',\n",
            "  'image': 'https://imdb-api.com/images/original/MV5BMTA1NDQ3OTY2NDVeQTJeQWpwZ15BbWU3MDI5MDc0MzM@._V1_Ratio0.7273_AL_.jpg',\n",
            "  'resultType': 'Title',\n",
            "  'title': 'Alexander'},\n",
            " {'description': '(2015)',\n",
            "  'id': 'tt2268016',\n",
            "  'image': 'https://imdb-api.com/images/original/MV5BNDMyODU3ODk3Ml5BMl5BanBnXkFtZTgwNDc1ODkwNjE@._V1_Ratio0.7273_AL_.jpg',\n",
            "  'resultType': 'Title',\n",
            "  'title': 'Magic Mike XXL'}]\n"
          ]
        }
      ],
      "source": [
        "API_KEY = 'k_ynffhhna'\n",
        "\n",
        "title = 'lexx'\n",
        "url = \"https://imdb-api.com/en/API/SearchTitle/{key}/{title}\".format(key=API_KEY, title=title)\n",
        "\n",
        "response = requests.request(\"GET\", url, headers={}, data={})\n",
        "\n",
        "data = json.loads(response.text)  # recall json.loads for lab 1\n",
        "#pprint(data)\n",
        "results = data['results']\n",
        "pprint(results)"
      ]
    },
    {
      "cell_type": "markdown",
      "source": [
        "Next we extract the item we want from the data set by applying a \"filter\":"
      ],
      "metadata": {
        "collapsed": false,
        "pycharm": {
          "name": "#%% md\n"
        },
        "id": "rnlGzP2ZBnUU"
      }
    },
    {
      "cell_type": "code",
      "execution_count": 4,
      "outputs": [
        {
          "output_type": "stream",
          "name": "stdout",
          "text": [
            "{'description': '(1996) (TV Series)',\n",
            " 'id': 'tt0115243',\n",
            " 'image': 'https://imdb-api.com/images/original/MV5BOGFjMzQyMTYtMjQxNy00NjAyLWI2OWMtZGVhMjk4OGM3ZjE5XkEyXkFqcGdeQXVyNzMzMjU5NDY@._V1_Ratio0.7273_AL_.jpg',\n",
            " 'resultType': 'Title',\n",
            " 'title': 'Lexx'}\n"
          ]
        }
      ],
      "source": [
        "items = [item for item in results if item['title']=='Lexx' and \"TV\" in item['description']]\n",
        "assert len(items) == 1\n",
        "lexx = items[0]\n",
        "pprint(lexx)"
      ],
      "metadata": {
        "pycharm": {
          "name": "#%%\n"
        },
        "id": "D9B_DARhBnUV",
        "outputId": "6189df1f-a95a-489b-f19d-d3be10b469ea",
        "colab": {
          "base_uri": "https://localhost:8080/"
        }
      }
    },
    {
      "cell_type": "markdown",
      "source": [
        "## Exercise 1\n",
        "\n",
        "In the code cell below, re-write the \"list comprehension\" above as a loop so you understand how it works.\n",
        "Notice how the \"conditional list comprehension\" is a compact way to \"filter\" items of interest from a large data set.\n"
      ],
      "metadata": {
        "collapsed": false,
        "pycharm": {
          "name": "#%% md\n"
        },
        "id": "-hXko7-oBnUW"
      }
    },
    {
      "cell_type": "code",
      "execution_count": 5,
      "outputs": [
        {
          "output_type": "stream",
          "name": "stdout",
          "text": [
            "{'description': '(1996) (TV Series)',\n",
            " 'id': 'tt0115243',\n",
            " 'image': 'https://imdb-api.com/images/original/MV5BOGFjMzQyMTYtMjQxNy00NjAyLWI2OWMtZGVhMjk4OGM3ZjE5XkEyXkFqcGdeQXVyNzMzMjU5NDY@._V1_Ratio0.7273_AL_.jpg',\n",
            " 'resultType': 'Title',\n",
            " 'title': 'Lexx'}\n"
          ]
        }
      ],
      "source": [
        "# Your code here\n",
        "items=[]\n",
        "for item in results:\n",
        "    if item['title'] == 'Lexx' and 'TV' in item['description'] :\n",
        "       items.append(item)\n",
        "lexx=items[0]\n",
        "pprint(lexx)"
      ],
      "metadata": {
        "pycharm": {
          "name": "#%%\n"
        },
        "id": "EnYHMZhNBnUX",
        "colab": {
          "base_uri": "https://localhost:8080/"
        },
        "outputId": "33da2939-72de-43cb-c784-f0f0e7dba3bf"
      }
    },
    {
      "cell_type": "markdown",
      "source": [
        "Notice that the `lexx` dictionary contains an `id` field that uniquely identifies this record in the database.\n",
        "\n",
        "We can use the `id` to fetch other information about the TV series, for example,\n",
        "*   get names of all actors in the TV Series Lexx\n"
      ],
      "metadata": {
        "id": "DNRs7ynOYwYk"
      }
    },
    {
      "cell_type": "code",
      "source": [
        "url = \"https://imdb-api.com/en/API/FullCast/{key}/{id}\".format(key=API_KEY, id=lexx['id'])\n",
        "response = requests.request(\"GET\", url, headers={}, data={})\n",
        "data = json.loads(response.text)\n",
        "#pprint(data)\n",
        "actors = data['actors']\n",
        "pprint(actors[:10])   # recall the slice operator (it's a long list!)"
      ],
      "metadata": {
        "colab": {
          "base_uri": "https://localhost:8080/"
        },
        "id": "tiyXTDfnZAd0",
        "outputId": "8bbda6aa-cdb9-4207-c6d5-da3b52b734d0"
      },
      "execution_count": 6,
      "outputs": [
        {
          "output_type": "stream",
          "name": "stdout",
          "text": [
            "[{'asCharacter': 'Stanley H. Tweedle / ... 61 episodes, 1996-2002',\n",
            "  'id': 'nm0235978',\n",
            "  'image': 'https://imdb-api.com/images/original/MV5BMTYxODI3OTM5Ml5BMl5BanBnXkFtZTgwMjM4ODc3MjE@._V1_Ratio1.3182_AL_.jpg',\n",
            "  'name': 'Brian Downey'},\n",
            " {'asCharacter': 'Kai / ... 61 episodes, 1996-2002',\n",
            "  'id': 'nm0573158',\n",
            "  'image': 'https://imdb-api.com/images/original/MV5BMTY3MjQ4NzE0NV5BMl5BanBnXkFtZTgwNDE4ODc3MjE@._V1_Ratio1.3182_AL_.jpg',\n",
            "  'name': 'Michael McManus'},\n",
            " {'asCharacter': '790 / ... 57 episodes, 1996-2002',\n",
            "  'id': 'nm0386601',\n",
            "  'image': 'https://imdb-api.com/images/original/MV5BMjMyMDM1NzgzNF5BMl5BanBnXkFtZTgwOTM4ODc3MjE@._V1_Ratio1.3182_AL_.jpg',\n",
            "  'name': 'Jeffrey Hirschfield'},\n",
            " {'asCharacter': 'Xev Bellringer / ... 55 episodes, 1998-2002',\n",
            "  'id': 'nm0781462',\n",
            "  'image': 'https://imdb-api.com/images/original/MV5BMTk2MDQ4NzExOF5BMl5BanBnXkFtZTcwOTMyNzcyMQ@@._V1_Ratio0.7273_AL_.jpg',\n",
            "  'name': 'Xenia Seeberg'},\n",
            " {'asCharacter': 'The Lexx 46 episodes, 1996-2002',\n",
            "  'id': 'nm0302577',\n",
            "  'image': 'https://imdb-api.com/images/original/nopicture.jpg',\n",
            "  'name': 'Tom Gallant'},\n",
            " {'asCharacter': 'Prince / ... 23 episodes, 2000-2002',\n",
            "  'id': 'nm0000911',\n",
            "  'image': 'https://imdb-api.com/images/original/MV5BMTgxMTY2NzM5NF5BMl5BanBnXkFtZTcwMDA5MDYxOA@@._V1_Ratio0.7727_AL_.jpg',\n",
            "  'name': 'Nigel Bennett'},\n",
            " {'asCharacter': 'Bunny Priest / ... 16 episodes, 1999-2002',\n",
            "  'id': 'nm0954934',\n",
            "  'image': 'https://imdb-api.com/images/original/MV5BMTg2Mjk2Nzk5NV5BMl5BanBnXkFtZTcwNzYyODQzMQ@@._V1_Ratio0.7727_AL_.jpg',\n",
            "  'name': 'Patricia Zentilli'},\n",
            " {'asCharacter': 'Bound Man / ... 8 episodes, 1996-2002',\n",
            "  'id': 'nm0317596',\n",
            "  'image': 'https://imdb-api.com/images/original/MV5BNjNiNzAwMjQtYTU1NC00NDkzLWI4OTktYjA0NWRiZjEzZmFkXkEyXkFqcGdeQXVyMTAwMzUyMzUy._V1_Ratio0.7273_AL_.jpg',\n",
            "  'name': 'Lex Gigeroff'},\n",
            " {'asCharacter': 'Reginald J. Priest / ... 13 episodes, 2000-2002',\n",
            "  'id': 'nm0437708',\n",
            "  'image': 'https://imdb-api.com/images/original/MV5BMWFmNDI5YWEtMjRkYi00MTRhLTk5YjMtYTEwNTgyMWQ2ODk4XkEyXkFqcGdeQXVyNDM4NDA1Mg@@._V1_Ratio0.7273_AL_.jpg',\n",
            "  'name': 'Rolf Kanies'},\n",
            " {'asCharacter': 'Lyekka / ... 10 episodes, 1998-2002',\n",
            "  'id': 'nm0936263',\n",
            "  'image': 'https://imdb-api.com/images/original/nopicture.jpg',\n",
            "  'name': 'Louise Wischermann'}]\n"
          ]
        }
      ]
    },
    {
      "cell_type": "markdown",
      "source": [
        "Notice that the `asCharacter` field contains a number of different pieces of data as a single string, including the character name.\n",
        "This kind of \"free-form\" text data is notoriously challenging to parse...\n",
        "\n",
        "## Exercise 2\n",
        "\n",
        "In the code cell below, write a python function that takes a string input (the text from `asCharacter` field)\n",
        "and returns the number of episodes, if available, or None.\n",
        "\n",
        "Hints:\n",
        "* notice this is a numeric value followed by the word \"episodes\"\n",
        "* recall str.split() and str.isdigit() and other string build-ins.\n",
        "\n",
        "Add unit tests to cover as many cases from the `actors` data set above as you can.\n"
      ],
      "metadata": {
        "id": "iOZspDBVbBns"
      }
    },
    {
      "cell_type": "code",
      "execution_count": 7,
      "outputs": [
        {
          "name": "stdout",
          "output_type": "stream",
          "text": [
            "Enter the actor's name that you are looking for: Louise\n"
          ]
        }
      ],
      "source": [
        "# your code here\n",
        "inp=input(\"Enter the actor's name that you are looking for: \")\n",
        "for item in actors:\n",
        "     asCsplt=item['asCharacter'].split(' ')\n",
        "     if item['name']== inp:\n",
        "            for i in asCsplt:\n",
        "                if i.isdigit()==True and len(i)<=2:\n",
        "                     pprint('{} and {} episodes'.format(inp,i))\n",
        "                 \n",
        "         \n",
        "\n",
        "     \n"
      ],
      "metadata": {
        "pycharm": {
          "name": "#%%\n"
        },
        "id": "_5lOKAPzBnUa",
        "colab": {
          "base_uri": "https://localhost:8080/"
        },
        "outputId": "7da8e440-330c-4075-e113-5c92f85b525b"
      }
    },
    {
      "cell_type": "markdown",
      "source": [
        "## Exercise 3\n",
        "\n",
        "In the code cell below, write a python function that takes a string input (the text from `asCharacter` field)\n",
        "and returns just the character name.  This one may be even a little harder!\n",
        "\n",
        "Hints:\n",
        "* notice the character name is usually followed by a forward slash, `/`\n",
        "* don't worry if your algorithm does not perfectly parse every character's name --\n",
        "it may not really be possible to correclty handle all cases because the field format does not follow consistent rules\n",
        "\n",
        "Add unit tests to cover as many cases from the `actors` data set above as you can.\n"
      ],
      "metadata": {
        "collapsed": false,
        "pycharm": {
          "name": "#%% md\n"
        },
        "id": "Oo_g3pwyBnUb"
      }
    },
    {
      "cell_type": "code",
      "execution_count": 8,
      "outputs": [
        {
          "output_type": "stream",
          "name": "stdout",
          "text": [
            "What are you looking for: Louise\n",
            "'Name: Louise Wischermann , Character: Lyekka'\n"
          ]
        }
      ],
      "source": [
        "# Your code here\n",
        "inp=input(\"What are you looking for: \")\n",
        "for item in actors:\n",
        "   if inp in item['asCharacter'] or inp in item['name']:\n",
        "      for i in range(len(item['asCharacter'])):\n",
        "         if item['asCharacter'][i] == '/':\n",
        "           output = 'Name: {} , Character: {}'.format(item['name'],item['asCharacter'][:i-1])\n",
        "pprint(output)\n",
        "            \n",
        "      \n"
      ],
      "metadata": {
        "pycharm": {
          "name": "#%%\n"
        },
        "id": "vhO37-3BBnUb",
        "colab": {
          "base_uri": "https://localhost:8080/"
        },
        "outputId": "c875ddaa-3939-4fc9-fe97-214fe48d54d9"
      }
    },
    {
      "cell_type": "markdown",
      "source": [
        "\n",
        "## Exercise 4\n",
        "\n",
        "Using the functions you developed above, define 2 list comprehensions that:\n",
        "* create list of 2 tuples with (actor name, character description) for actors in Lexx  (from `asCharacter` field)\n",
        "* create a list of dictionaries, with keys:  'actor' and 'character' for the same data\n",
        "\n",
        "Hint: this is a very simple problem - the goal is to learn how to build these lists using a comprehension.\n",
        "\n",
        "Pretty print (pprint) your lists to visually verify the results."
      ],
      "metadata": {
        "id": "f_iRYAa3lqV0"
      }
    },
    {
      "cell_type": "code",
      "source": [
        "# your code here\n",
        "dic={}\n",
        "list_tup=[]\n",
        "list_dic=[]\n",
        "for item in actors:\n",
        "    for i in range(len(item['asCharacter'])):\n",
        "      if item['asCharacter'][i] == '/':\n",
        "        \n",
        "        name_char=(item['asCharacter'][:i-1],item['name'])\n",
        "        #pprint(name_char)\n",
        "        dic[item['name']]=item['asCharacter'][:i-1]\n",
        "        list_tup.append(name_char)\n",
        "\n",
        "#pprint(name_char)\n",
        "#pprint(dic)\n",
        "list_dic.append(dic)\n",
        "print('')\n",
        "print('')\n",
        "print('') \n",
        "pprint(list_tup)\n",
        "print('')\n",
        "print('')\n",
        "print('')   \n",
        "pprint(list_dic)  \n"
      ],
      "metadata": {
        "id": "Ds1YevErlzCe",
        "pycharm": {
          "name": "#%%\n"
        },
        "colab": {
          "base_uri": "https://localhost:8080/"
        },
        "outputId": "e8f8c7c9-91f8-4452-b5ae-3f62c5f55813"
      },
      "execution_count": 10,
      "outputs": [
        {
          "output_type": "stream",
          "name": "stdout",
          "text": [
            "{'Alan MacGillivray': 'Argon Protopi',\n",
            " 'Amy Kerr': 'Desh',\n",
            " 'Andre Haines': 'Doily',\n",
            " 'Andrea Green': 'Davinia Silver',\n",
            " 'Andy Smith': 'Eco Tourist #2',\n",
            " 'Angela Vermeir': 'Computer',\n",
            " 'Angie Hill': 'Muffy',\n",
            " 'Anna Cameron': 'The Time Prophet',\n",
            " 'Brandon McCarvell': 'Norb',\n",
            " 'Brian Carter': '791',\n",
            " 'Brian Downey': 'Stanley H. Tweedle',\n",
            " 'Chas Lawther': 'Video Customs Officer',\n",
            " 'Chris Duffy': 'ATF Agent #1',\n",
            " 'Cindy Sampson': 'Druid Girl',\n",
            " 'Clive Sweeney': 'Megashadow Adjutant',\n",
            " 'David Albiston': 'Mothbreeder',\n",
            " 'David Alexander Miller': \"Duke's Guard\",\n",
            " 'David McClelland': 'Holo Cleric',\n",
            " 'David Renton': 'Joshua',\n",
            " 'Ellen Dubin': 'Giggerota',\n",
            " 'Gary Levert': 'Lead Balloonist',\n",
            " 'Geoff Herod': 'Brock',\n",
            " 'Geoff McBride': 'Moth Breeder',\n",
            " 'Glen Grant': 'Blue Team Member',\n",
            " 'Glenn Wadman': 'Archaeologist',\n",
            " 'Gordon Patrick White': 'Thief',\n",
            " 'Graham Pountney': 'Commentator',\n",
            " 'Holger Kunkel': 'Boork',\n",
            " 'Jack Carr': 'Bellhop',\n",
            " 'Jamie Bradley': 'Jood',\n",
            " 'Janet Wright': 'First Lady Priest',\n",
            " 'Jeff Pustil': 'Fifi',\n",
            " 'Jeffrey Hirschfield': '790',\n",
            " 'Jennifer Overton': 'Matron',\n",
            " 'Jeremy Akerman': 'Transport Major',\n",
            " 'Joel Sapp': 'Bleeding Cleric',\n",
            " 'John Dartt': 'Holo Lawyr',\n",
            " 'John Dunsworth': 'Divine Predecessor',\n",
            " 'Jon K. Loverin': 'Handler 2',\n",
            " 'Joshua Young': 'Black Pawn #3',\n",
            " 'Landy Cannon': 'Root',\n",
            " 'Laura Mae Nason': 'Dream Girl #2',\n",
            " 'Lauren Abrahams': 'Lomea',\n",
            " 'Lex Gigeroff': 'Bound Man',\n",
            " 'Lionel Doucette': 'Holo Judge',\n",
            " 'Lisa Hynes': 'Original Xev',\n",
            " 'Louis Del Grande': 'Louie',\n",
            " 'Louise Wischermann': 'Lyekka',\n",
            " 'Malcolm Younger': 'Priest',\n",
            " 'Mark A. Owen': 'Big Angry Ed',\n",
            " 'Maury Chaykin': 'Pa Gollean',\n",
            " 'Michael McManus': 'Kai',\n",
            " 'Michael Pellerin': 'Road Worker',\n",
            " 'Mike Petersen': '790 Robot',\n",
            " 'Minna Aaltonen': 'Vlad',\n",
            " 'Nicolás Artajo': 'Child',\n",
            " 'Nigel Bennett': 'Prince',\n",
            " 'Patricia Zentilli': 'Bunny Priest',\n",
            " 'Philippe Roche': 'Brother Stack',\n",
            " 'Rachel Mooney': 'Mandragora Morgana',\n",
            " 'Robert Sigl': 'Petrif',\n",
            " 'Rolf Kanies': 'Reginald J. Priest',\n",
            " 'Sam White': 'Rexal',\n",
            " 'Sandra Keller': 'Nurse',\n",
            " 'Shaun Clarke': 'Reteep',\n",
            " 'Sherry White': 'Middle aged woman',\n",
            " 'Stephen Coats': 'Dad',\n",
            " 'Stephen J.M. Sisk': 'Flintokk, Head Pimp Sister',\n",
            " 'Stephen McHattie': 'E.J. Moss, Commander of Eagle 5',\n",
            " 'Todd Godin': 'Mothbreeder',\n",
            " 'Tony Anholt': 'Anchorman',\n",
            " 'Walter Borden': 'His Divine Shadow',\n",
            " 'Xenia Seeberg': 'Xev Bellringer'}\n",
            "\n",
            "\n",
            "\n",
            "[('Stanley H. Tweedle', 'Brian Downey'),\n",
            " ('Kai', 'Michael McManus'),\n",
            " ('790', 'Jeffrey Hirschfield'),\n",
            " ('Xev Bellringer', 'Xenia Seeberg'),\n",
            " ('Prince', 'Nigel Bennett'),\n",
            " ('Bunny Priest', 'Patricia Zentilli'),\n",
            " ('Bound Man', 'Lex Gigeroff'),\n",
            " ('Reginald J. Priest', 'Rolf Kanies'),\n",
            " ('Lyekka', 'Louise Wischermann'),\n",
            " ('Divine Predecessor', 'John Dunsworth'),\n",
            " ('His Divine Shadow', 'Walter Borden'),\n",
            " ('Mothbreeder', 'David Albiston'),\n",
            " ('Vlad', 'Minna Aaltonen'),\n",
            " ('Megashadow Adjutant', 'Clive Sweeney'),\n",
            " ('Giggerota', 'Ellen Dubin'),\n",
            " ('The Time Prophet', 'Anna Cameron'),\n",
            " ('Fifi', 'Jeff Pustil'),\n",
            " ('Holo Cleric', 'David McClelland'),\n",
            " ('Jood', 'Jamie Bradley'),\n",
            " ('Transport Major', 'Jeremy Akerman'),\n",
            " ('Child', 'Nicolás Artajo'),\n",
            " ('Holo Lawyr', 'John Dartt'),\n",
            " ('Video Customs Officer', 'Chas Lawther'),\n",
            " ('Mothbreeder', 'Todd Godin'),\n",
            " ('Petrif', 'Robert Sigl'),\n",
            " ('Joshua', 'David Renton'),\n",
            " ('Holo Judge', 'Lionel Doucette'),\n",
            " ('Anchorman', 'Tony Anholt'),\n",
            " ('Lead Balloonist', 'Gary Levert'),\n",
            " ('Handler 2', 'Jon K. Loverin'),\n",
            " ('Archaeologist', 'Glenn Wadman'),\n",
            " ('Matron', 'Jennifer Overton'),\n",
            " ('Brock', 'Geoff Herod'),\n",
            " ('Blue Team Member', 'Glen Grant'),\n",
            " ('E.J. Moss, Commander of Eagle 5', 'Stephen McHattie'),\n",
            " ('Big Angry Ed', 'Mark A. Owen'),\n",
            " ('First Lady Priest', 'Janet Wright'),\n",
            " ('Moth Breeder', 'Geoff McBride'),\n",
            " ('Louie', 'Louis Del Grande'),\n",
            " ('Norb', 'Brandon McCarvell'),\n",
            " ('Boork', 'Holger Kunkel'),\n",
            " ('Davinia Silver', 'Andrea Green'),\n",
            " ('Lomea', 'Lauren Abrahams'),\n",
            " ('791', 'Brian Carter'),\n",
            " ('Dad', 'Stephen Coats'),\n",
            " ('Muffy', 'Angie Hill'),\n",
            " ('Dream Girl #2', 'Laura Mae Nason'),\n",
            " ('ATF Agent #1', 'Chris Duffy'),\n",
            " ('Road Worker', 'Michael Pellerin'),\n",
            " ('Root', 'Landy Cannon'),\n",
            " ('Mandragora Morgana', 'Rachel Mooney'),\n",
            " ('Flintokk, Head Pimp Sister', 'Stephen J.M. Sisk'),\n",
            " ('Doily', 'Andre Haines'),\n",
            " ('Argon Protopi', 'Alan MacGillivray'),\n",
            " ('Reteep', 'Shaun Clarke'),\n",
            " ('Commentator', 'Graham Pountney'),\n",
            " ('Rexal', 'Sam White'),\n",
            " ('Eco Tourist #2', 'Andy Smith'),\n",
            " ('Computer', 'Angela Vermeir'),\n",
            " ('Bellhop', 'Jack Carr'),\n",
            " ('Middle aged woman', 'Sherry White'),\n",
            " ('790 Robot', 'Mike Petersen'),\n",
            " ('Pa Gollean', 'Maury Chaykin'),\n",
            " ('Original Xev', 'Lisa Hynes'),\n",
            " ('Priest', 'Malcolm Younger'),\n",
            " ('Desh', 'Amy Kerr'),\n",
            " ('Druid Girl', 'Cindy Sampson'),\n",
            " ('Black Pawn #3', 'Joshua Young'),\n",
            " ('Thief', 'Gordon Patrick White'),\n",
            " ('Nurse', 'Sandra Keller'),\n",
            " ('Brother Stack', 'Philippe Roche'),\n",
            " ('Bleeding Cleric', 'Joel Sapp'),\n",
            " (\"Duke's Guard\", 'David Alexander Miller')]\n",
            "\n",
            "\n",
            "\n",
            "[{'Alan MacGillivray': 'Argon Protopi',\n",
            "  'Amy Kerr': 'Desh',\n",
            "  'Andre Haines': 'Doily',\n",
            "  'Andrea Green': 'Davinia Silver',\n",
            "  'Andy Smith': 'Eco Tourist #2',\n",
            "  'Angela Vermeir': 'Computer',\n",
            "  'Angie Hill': 'Muffy',\n",
            "  'Anna Cameron': 'The Time Prophet',\n",
            "  'Brandon McCarvell': 'Norb',\n",
            "  'Brian Carter': '791',\n",
            "  'Brian Downey': 'Stanley H. Tweedle',\n",
            "  'Chas Lawther': 'Video Customs Officer',\n",
            "  'Chris Duffy': 'ATF Agent #1',\n",
            "  'Cindy Sampson': 'Druid Girl',\n",
            "  'Clive Sweeney': 'Megashadow Adjutant',\n",
            "  'David Albiston': 'Mothbreeder',\n",
            "  'David Alexander Miller': \"Duke's Guard\",\n",
            "  'David McClelland': 'Holo Cleric',\n",
            "  'David Renton': 'Joshua',\n",
            "  'Ellen Dubin': 'Giggerota',\n",
            "  'Gary Levert': 'Lead Balloonist',\n",
            "  'Geoff Herod': 'Brock',\n",
            "  'Geoff McBride': 'Moth Breeder',\n",
            "  'Glen Grant': 'Blue Team Member',\n",
            "  'Glenn Wadman': 'Archaeologist',\n",
            "  'Gordon Patrick White': 'Thief',\n",
            "  'Graham Pountney': 'Commentator',\n",
            "  'Holger Kunkel': 'Boork',\n",
            "  'Jack Carr': 'Bellhop',\n",
            "  'Jamie Bradley': 'Jood',\n",
            "  'Janet Wright': 'First Lady Priest',\n",
            "  'Jeff Pustil': 'Fifi',\n",
            "  'Jeffrey Hirschfield': '790',\n",
            "  'Jennifer Overton': 'Matron',\n",
            "  'Jeremy Akerman': 'Transport Major',\n",
            "  'Joel Sapp': 'Bleeding Cleric',\n",
            "  'John Dartt': 'Holo Lawyr',\n",
            "  'John Dunsworth': 'Divine Predecessor',\n",
            "  'Jon K. Loverin': 'Handler 2',\n",
            "  'Joshua Young': 'Black Pawn #3',\n",
            "  'Landy Cannon': 'Root',\n",
            "  'Laura Mae Nason': 'Dream Girl #2',\n",
            "  'Lauren Abrahams': 'Lomea',\n",
            "  'Lex Gigeroff': 'Bound Man',\n",
            "  'Lionel Doucette': 'Holo Judge',\n",
            "  'Lisa Hynes': 'Original Xev',\n",
            "  'Louis Del Grande': 'Louie',\n",
            "  'Louise Wischermann': 'Lyekka',\n",
            "  'Malcolm Younger': 'Priest',\n",
            "  'Mark A. Owen': 'Big Angry Ed',\n",
            "  'Maury Chaykin': 'Pa Gollean',\n",
            "  'Michael McManus': 'Kai',\n",
            "  'Michael Pellerin': 'Road Worker',\n",
            "  'Mike Petersen': '790 Robot',\n",
            "  'Minna Aaltonen': 'Vlad',\n",
            "  'Nicolás Artajo': 'Child',\n",
            "  'Nigel Bennett': 'Prince',\n",
            "  'Patricia Zentilli': 'Bunny Priest',\n",
            "  'Philippe Roche': 'Brother Stack',\n",
            "  'Rachel Mooney': 'Mandragora Morgana',\n",
            "  'Robert Sigl': 'Petrif',\n",
            "  'Rolf Kanies': 'Reginald J. Priest',\n",
            "  'Sam White': 'Rexal',\n",
            "  'Sandra Keller': 'Nurse',\n",
            "  'Shaun Clarke': 'Reteep',\n",
            "  'Sherry White': 'Middle aged woman',\n",
            "  'Stephen Coats': 'Dad',\n",
            "  'Stephen J.M. Sisk': 'Flintokk, Head Pimp Sister',\n",
            "  'Stephen McHattie': 'E.J. Moss, Commander of Eagle 5',\n",
            "  'Todd Godin': 'Mothbreeder',\n",
            "  'Tony Anholt': 'Anchorman',\n",
            "  'Walter Borden': 'His Divine Shadow',\n",
            "  'Xenia Seeberg': 'Xev Bellringer'}]\n"
          ]
        }
      ]
    }
  ]
}