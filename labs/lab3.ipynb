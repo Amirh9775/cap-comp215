{
  "nbformat": 4,
  "nbformat_minor": 0,
  "metadata": {
    "colab": {
      "name": "iMdb.ipynb",
      "provenance": [],
      "collapsed_sections": []
    },
    "kernelspec": {
      "name": "python3",
      "language": "python",
      "display_name": "Python 3 (ipykernel)"
    },
    "language_info": {
      "name": "python"
    }
  },
  "cells": [
    {
      "cell_type": "markdown",
      "source": [
        "COMP 215 - LAB 2\n",
        "----------------\n",
        "#### Name:\n",
        "#### Date:\n",
        "This lab exercise is mostly a review of strings, tuples, lists, dictionaries, and functions.\n",
        "We will also see how \"list comprehension\" provides a compact form for \"list accumulator\" algorithms.\n",
        "\n",
        "As usual, the first code cell simply imports all the modules we'll be using..."
      ],
      "metadata": {
        "id": "nbRPZPKZU5Pk"
      }
    },
    {
      "cell_type": "code",
      "execution_count": 21,
      "outputs": [],
      "source": [
        "import json, requests\n",
        "import matplotlib.pyplot as plt\n",
        "from pprint import pprint"
      ],
      "metadata": {
        "pycharm": {
          "name": "#%%\n"
        },
        "id": "YIgu61_2CW9s"
      }
    },
    {
      "cell_type": "markdown",
      "source": [
        "We'll answer some questions about movies and TV shows with the IMDb database:  https://www.imdb.com/\n",
        "> using the IMDb API:  https://imdb-api.com/api\n",
        "\n",
        "You can register for your own API key, or simply use the one provided below.\n",
        "\n",
        "Here's an example query:\n",
        " *   search for TV Series with title == \"Lexx\""
      ],
      "metadata": {
        "collapsed": false,
        "pycharm": {
          "name": "#%% md\n"
        },
        "id": "PweGxRdICW9t"
      }
    },
    {
      "cell_type": "code",
      "execution_count": 22,
      "metadata": {
        "id": "JDGbYTySU3BP",
        "outputId": "c041492c-9ac0-4047-ca81-eb68c3c837da",
        "colab": {
          "base_uri": "https://localhost:8080/"
        }
      },
      "outputs": [
        {
          "output_type": "stream",
          "name": "stdout",
          "text": [
            "[{'description': '(1996) (TV Series)',\n",
            "  'id': 'tt0115243',\n",
            "  'image': 'https://imdb-api.com/images/original/MV5BOGFjMzQyMTYtMjQxNy00NjAyLWI2OWMtZGVhMjk4OGM3ZjE5XkEyXkFqcGdeQXVyNzMzMjU5NDY@._V1_Ratio0.7273_AL_.jpg',\n",
            "  'resultType': 'Title',\n",
            "  'title': 'Lexx'},\n",
            " {'description': '(2008) (Video)',\n",
            "  'id': 'tt1833738',\n",
            "  'image': 'https://imdb-api.com/images/original/MV5BMjAyMTYzNjk4NV5BMl5BanBnXkFtZTcwNzE4MTU0NA@@._V1_Ratio0.7273_AL_.jpg',\n",
            "  'resultType': 'Title',\n",
            "  'title': 'Lexx'},\n",
            " {'description': '(2018)',\n",
            "  'id': 'tt10800568',\n",
            "  'image': 'https://imdb-api.com/images/original/MV5BZWY5ODYwNzYtMmIyMS00YzhhLTg0OTAtODM1M2I5YzkxMzY1XkEyXkFqcGdeQXVyMTEwNDU1MzEy._V1_Ratio0.7273_AL_.jpg',\n",
            "  'resultType': 'Title',\n",
            "  'title': 'Lexxy Roxx: Lexy 360 - Der Film'},\n",
            " {'description': '(2014) (Short)',\n",
            "  'id': 'tt4396272',\n",
            "  'image': 'https://imdb-api.com/images/original/nopicture.jpg',\n",
            "  'resultType': 'Title',\n",
            "  'title': 'Lexxxus'},\n",
            " {'description': '(2016) (Video) aka \"Lexxzibé Inonime Nirek & Elmaniak: La '\n",
            "                 'Belle Et La Bête (2016)\"',\n",
            "  'id': 'tt14690226',\n",
            "  'image': 'https://imdb-api.com/images/original/MV5BN2NmNGYxZTgtYjg3MC00ZDZhLTk1ODUtM2E4NGYwYzQ3YTFiXkEyXkFqcGdeQXVyMTA2NzA1NDYz._V1_Ratio1.7727_AL_.jpg',\n",
            "  'resultType': 'Title',\n",
            "  'title': 'Mauvais augure feat. Nirek & Ced (Elmaniak) Auger: La Belle Et La '\n",
            "           'Bête'},\n",
            " {'description': '(2018) (Short)',\n",
            "  'id': 'tt12646262',\n",
            "  'image': 'https://imdb-api.com/images/original/MV5BODczYTEwNTctYzAzYy00YjIzLThkNGQtMDdjYmU5NjI1MzAxXkEyXkFqcGdeQXVyMTIwNjM2NTQz._V1_Ratio2.3182_AL_.jpg',\n",
            "  'resultType': 'Title',\n",
            "  'title': 'Lexxe - Red Velvet'},\n",
            " {'description': '(2020) (TV Series)',\n",
            "  'id': 'tt6964748',\n",
            "  'image': 'https://imdb-api.com/images/original/MV5BOTg4ZmQ5ZjItZTllZC00NzUzLTkwMTEtMjIzYzliZjk2ODUwXkEyXkFqcGdeQXVyMTEyMjM2NDc2._V1_Ratio0.7273_AL_.jpg',\n",
            "  'resultType': 'Title',\n",
            "  'title': 'Alex Rider'},\n",
            " {'description': '(2004)',\n",
            "  'id': 'tt0346491',\n",
            "  'image': 'https://imdb-api.com/images/original/MV5BMTA1NDQ3OTY2NDVeQTJeQWpwZ15BbWU3MDI5MDc0MzM@._V1_Ratio0.7273_AL_.jpg',\n",
            "  'resultType': 'Title',\n",
            "  'title': 'Alexander'},\n",
            " {'description': '(2015)',\n",
            "  'id': 'tt2268016',\n",
            "  'image': 'https://imdb-api.com/images/original/MV5BNDMyODU3ODk3Ml5BMl5BanBnXkFtZTgwNDc1ODkwNjE@._V1_Ratio0.7273_AL_.jpg',\n",
            "  'resultType': 'Title',\n",
            "  'title': 'Magic Mike XXL'}]\n"
          ]
        }
      ],
      "source": [
        "API_KEY = 'k_ynffhhna'\n",
        "\n",
        "title = 'lexx'\n",
        "url = \"https://imdb-api.com/en/API/SearchTitle/{key}/{title}\".format(key=API_KEY, title=title)\n",
        "\n",
        "response = requests.request(\"GET\", url, headers={}, data={})\n",
        "\n",
        "data = json.loads(response.text)  # recall json.loads for lab 1\n",
        "\n",
        "results = data['results']\n",
        "pprint(results)"
      ]
    },
    {
      "cell_type": "markdown",
      "source": [
        "Next we extract the item we want from the data set by applying a \"filter\":"
      ],
      "metadata": {
        "collapsed": false,
        "pycharm": {
          "name": "#%% md\n"
        },
        "id": "U-R_7XBsCW9v"
      }
    },
    {
      "cell_type": "code",
      "execution_count": 23,
      "outputs": [
        {
          "output_type": "stream",
          "name": "stdout",
          "text": [
            "{'description': '(1996) (TV Series)',\n",
            " 'id': 'tt0115243',\n",
            " 'image': 'https://imdb-api.com/images/original/MV5BOGFjMzQyMTYtMjQxNy00NjAyLWI2OWMtZGVhMjk4OGM3ZjE5XkEyXkFqcGdeQXVyNzMzMjU5NDY@._V1_Ratio0.7273_AL_.jpg',\n",
            " 'resultType': 'Title',\n",
            " 'title': 'Lexx'}\n"
          ]
        }
      ],
      "source": [
        "items = [item for item in results if item['title']=='Lexx' and \"TV\" in item['description']]\n",
        "assert len(items) == 1\n",
        "lexx = items[0]\n",
        "pprint(lexx)"
      ],
      "metadata": {
        "pycharm": {
          "name": "#%%\n"
        },
        "id": "4B6ubz18CW9v",
        "outputId": "2ac8286a-d841-41fd-f33c-30f943cc8bc1",
        "colab": {
          "base_uri": "https://localhost:8080/"
        }
      }
    },
    {
      "cell_type": "markdown",
      "source": [
        "## Exercise 1\n",
        "\n",
        "In the code cell below, re-write the \"list comprehension\" above as a loop so you understand how it works.\n",
        "Notice how the \"conditional list comprehension\" is a compact way to \"filter\" items of interest from a large data set.\n"
      ],
      "metadata": {
        "collapsed": false,
        "pycharm": {
          "name": "#%% md\n"
        },
        "id": "W6Ru4QSCCW9w"
      }
    },
    {
      "cell_type": "code",
      "execution_count": 24,
      "outputs": [
        {
          "output_type": "stream",
          "name": "stdout",
          "text": [
            "Lexx\n",
            "Lexx\n",
            "Lexxy Roxx: Lexy 360 - Der Film\n",
            "Lexxxus\n",
            "Mauvais augure feat. Nirek & Ced (Elmaniak) Auger: La Belle Et La Bête\n",
            "Lexxe - Red Velvet\n",
            "Alex Rider\n",
            "Alexander\n",
            "Magic Mike XXL\n"
          ]
        }
      ],
      "source": [
        "# Your code here\n",
        "for item in results:\n",
        "  print( item['title'])"
      ],
      "metadata": {
        "pycharm": {
          "name": "#%%\n"
        },
        "id": "uySqejUECW9w",
        "outputId": "e029a502-2bad-47c3-d412-79e4530ef6d6",
        "colab": {
          "base_uri": "https://localhost:8080/"
        }
      }
    },
    {
      "cell_type": "markdown",
      "source": [
        "Notice that the `lexx` dictionary contains an `id` field that uniquely identifies this record in the database.\n",
        "\n",
        "We can use the `id` to fetch other information about the TV series, for example,\n",
        "*   get names of all actors in the TV Series Lexx\n"
      ],
      "metadata": {
        "id": "DNRs7ynOYwYk"
      }
    },
    {
      "cell_type": "code",
      "source": [
        "url = \"https://imdb-api.com/en/API/FullCast/{key}/{id}\".format(key=API_KEY, id=lexx['id'])\n",
        "response = requests.request(\"GET\", url, headers={}, data={})\n",
        "data = json.loads(response.text)\n",
        "\n",
        "actors = data['actors']\n",
        "pprint(actors[:10])   # recall the slice operator (it's a long list!)"
      ],
      "metadata": {
        "colab": {
          "base_uri": "https://localhost:8080/"
        },
        "id": "tiyXTDfnZAd0",
        "outputId": "0867f558-9abb-4671-e549-b2270359027a"
      },
      "execution_count": 25,
      "outputs": [
        {
          "output_type": "stream",
          "name": "stdout",
          "text": [
            "[{'asCharacter': 'Stanley H. Tweedle / ... 61 episodes, 1996-2002',\n",
            "  'id': 'nm0235978',\n",
            "  'image': 'https://imdb-api.com/images/original/MV5BMTYxODI3OTM5Ml5BMl5BanBnXkFtZTgwMjM4ODc3MjE@._V1_Ratio1.3182_AL_.jpg',\n",
            "  'name': 'Brian Downey'},\n",
            " {'asCharacter': 'Kai / ... 61 episodes, 1996-2002',\n",
            "  'id': 'nm0573158',\n",
            "  'image': 'https://imdb-api.com/images/original/MV5BMTY3MjQ4NzE0NV5BMl5BanBnXkFtZTgwNDE4ODc3MjE@._V1_Ratio1.3182_AL_.jpg',\n",
            "  'name': 'Michael McManus'},\n",
            " {'asCharacter': '790 / ... 57 episodes, 1996-2002',\n",
            "  'id': 'nm0386601',\n",
            "  'image': 'https://imdb-api.com/images/original/MV5BMjMyMDM1NzgzNF5BMl5BanBnXkFtZTgwOTM4ODc3MjE@._V1_Ratio1.3182_AL_.jpg',\n",
            "  'name': 'Jeffrey Hirschfield'},\n",
            " {'asCharacter': 'Xev Bellringer / ... 55 episodes, 1998-2002',\n",
            "  'id': 'nm0781462',\n",
            "  'image': 'https://imdb-api.com/images/original/MV5BMTk2MDQ4NzExOF5BMl5BanBnXkFtZTcwOTMyNzcyMQ@@._V1_Ratio0.7273_AL_.jpg',\n",
            "  'name': 'Xenia Seeberg'},\n",
            " {'asCharacter': 'The Lexx 46 episodes, 1996-2002',\n",
            "  'id': 'nm0302577',\n",
            "  'image': 'https://imdb-api.com/images/original/nopicture.jpg',\n",
            "  'name': 'Tom Gallant'},\n",
            " {'asCharacter': 'Prince / ... 23 episodes, 2000-2002',\n",
            "  'id': 'nm0000911',\n",
            "  'image': 'https://imdb-api.com/images/original/MV5BMTgxMTY2NzM5NF5BMl5BanBnXkFtZTcwMDA5MDYxOA@@._V1_Ratio0.7727_AL_.jpg',\n",
            "  'name': 'Nigel Bennett'},\n",
            " {'asCharacter': 'Bunny Priest / ... 16 episodes, 1999-2002',\n",
            "  'id': 'nm0954934',\n",
            "  'image': 'https://imdb-api.com/images/original/MV5BMTg2Mjk2Nzk5NV5BMl5BanBnXkFtZTcwNzYyODQzMQ@@._V1_Ratio0.7727_AL_.jpg',\n",
            "  'name': 'Patricia Zentilli'},\n",
            " {'asCharacter': 'Bound Man / ... 8 episodes, 1996-2002',\n",
            "  'id': 'nm0317596',\n",
            "  'image': 'https://imdb-api.com/images/original/MV5BNjNiNzAwMjQtYTU1NC00NDkzLWI4OTktYjA0NWRiZjEzZmFkXkEyXkFqcGdeQXVyMTAwMzUyMzUy._V1_Ratio0.7273_AL_.jpg',\n",
            "  'name': 'Lex Gigeroff'},\n",
            " {'asCharacter': 'Reginald J. Priest / ... 13 episodes, 2000-2002',\n",
            "  'id': 'nm0437708',\n",
            "  'image': 'https://imdb-api.com/images/original/MV5BMWFmNDI5YWEtMjRkYi00MTRhLTk5YjMtYTEwNTgyMWQ2ODk4XkEyXkFqcGdeQXVyNDM4NDA1Mg@@._V1_Ratio0.7273_AL_.jpg',\n",
            "  'name': 'Rolf Kanies'},\n",
            " {'asCharacter': 'Lyekka / ... 10 episodes, 1998-2002',\n",
            "  'id': 'nm0936263',\n",
            "  'image': 'https://imdb-api.com/images/original/nopicture.jpg',\n",
            "  'name': 'Louise Wischermann'}]\n"
          ]
        }
      ]
    },
    {
      "cell_type": "markdown",
      "source": [
        "Notice that the `asCharacter` field contains a number of different pieces of data as a single string, including the character name.\n",
        "This kind of \"free-form\" text data is notoriously challenging to parse...\n",
        "\n",
        "## Exercise 2\n",
        "\n",
        "In the code cell below, write a python function that takes a string input (the text from `asCharacter` field)\n",
        "and returns the number of episodes, if available, or None.\n",
        "\n",
        "Hints:\n",
        "* notice this is a numeric value followed by the word \"episodes\"\n",
        "* recall str.split() and str.isdigit() and other string build-ins.\n",
        "\n",
        "Add unit tests to cover as many cases from the `actors` data set above as you can.\n"
      ],
      "metadata": {
        "id": "iOZspDBVbBns"
      }
    },
    {
      "cell_type": "code",
      "execution_count": 26,
      "outputs": [],
      "source": [
        "# your code here"
      ],
      "metadata": {
        "pycharm": {
          "name": "#%%\n"
        },
        "id": "gToU3RrnCW9z"
      }
    },
    {
      "cell_type": "markdown",
      "source": [
        "## Exercise 3\n",
        "\n",
        "In the code cell below, write a python function that takes a string input (the text from `asCharacter` field)\n",
        "and returns just the character name.  This one may be even a little harder!\n",
        "\n",
        "Hints:\n",
        "* notice the character name is usually followed by a forward slash, `/`\n",
        "* don't worry if your algorithm does not perfectly parse every character's name --\n",
        "it may not really be possible to correclty handle all cases because the field format does not follow consistent rules\n",
        "\n",
        "Add unit tests to cover as many cases from the `actors` data set above as you can.\n"
      ],
      "metadata": {
        "collapsed": false,
        "pycharm": {
          "name": "#%% md\n"
        },
        "id": "5pnFh_1iCW9z"
      }
    },
    {
      "cell_type": "code",
      "execution_count": 27,
      "outputs": [],
      "source": [
        "# Your code here"
      ],
      "metadata": {
        "pycharm": {
          "name": "#%%\n"
        },
        "id": "3AYxf2JHCW90"
      }
    },
    {
      "cell_type": "markdown",
      "source": [
        "\n",
        "## Exercise 4\n",
        "\n",
        "Using the functions you developed above, define 2 list comprehensions that:\n",
        "* create list of 2 tuples with (actor name, character description) for actors in Lexx  (from `asCharacter` field)\n",
        "* create a list of dictionaries, with keys:  'actor' and 'character' for the same data\n",
        "\n",
        "Hint: this is a very simple problem - the goal is to learn how to build these lists using a comprehension.\n",
        "\n",
        "Pretty print (pprint) your lists to visually verify the results."
      ],
      "metadata": {
        "id": "f_iRYAa3lqV0"
      }
    },
    {
      "cell_type": "code",
      "source": [
        "# your code here"
      ],
      "metadata": {
        "id": "Ds1YevErlzCe",
        "pycharm": {
          "name": "#%%\n"
        }
      },
      "execution_count": 28,
      "outputs": []
    },
    {
      "cell_type": "markdown",
      "source": [
        "# LAB 3\n",
        "Classes and Objects\n",
        "\n",
        "Ex. 1 - define a class to represent one TV Series Actor"
      ],
      "metadata": {
        "id": "BYSCWYYnPGMg"
      }
    },
    {
      "cell_type": "code",
      "source": [
        "class SeriesActor:\n",
        "  def __init__(self, name, character, episodes):\n",
        "    self.name = name\n",
        "    self.character = character\n",
        "    self.episodes = episodes\n",
        "\n",
        "  def __str__(self):\n",
        "    return f'{self.name} plays {self.character} ({self.episodes} episodes)'\n",
        "\n",
        "actor = SeriesActor('Caroll Spinney', 'Big Bird', 247)\n",
        "print('Actor:', actor)"
      ],
      "metadata": {
        "id": "MKf4Ty-kPR6M",
        "outputId": "27c7d05e-bcea-4ef5-9924-54dd2db3b33d",
        "colab": {
          "base_uri": "https://localhost:8080/"
        }
      },
      "execution_count": 29,
      "outputs": [
        {
          "output_type": "stream",
          "name": "stdout",
          "text": [
            "Actor: Caroll Spinney plays Big Bird (247 episodes)\n"
          ]
        }
      ]
    },
    {
      "cell_type": "markdown",
      "source": [
        "Ex. 2 - create a list of SeriesActor objects"
      ],
      "metadata": {
        "id": "YYsKva1HQNY0"
      }
    },
    {
      "cell_type": "code",
      "source": [
        "def get_episodes(imdb_raw_ascharacter):\n",
        "  return 42\n",
        "\n",
        "lexx_actors = [\n",
        "    SeriesActor(\n",
        "        name=r['name'], \n",
        "        character=r['asCharacter'][:10], \n",
        "        episodes=get_episodes(r['asCharacter'])\n",
        "    )  for r in actors\n",
        "]\n",
        "\n",
        "for i in range(10):\n",
        "  print(lexx_actors[i])"
      ],
      "metadata": {
        "id": "ubORbHqOQQ-H",
        "outputId": "a161f8ea-ecb5-4e94-be39-f56801cbd567",
        "colab": {
          "base_uri": "https://localhost:8080/"
        }
      },
      "execution_count": 30,
      "outputs": [
        {
          "output_type": "stream",
          "name": "stdout",
          "text": [
            "Brian Downey plays Stanley H. (42 episodes)\n",
            "Michael McManus plays Kai / ...  (42 episodes)\n",
            "Jeffrey Hirschfield plays 790 / ...  (42 episodes)\n",
            "Xenia Seeberg plays Xev Bellri (42 episodes)\n",
            "Tom Gallant plays The Lexx 4 (42 episodes)\n",
            "Nigel Bennett plays Prince / . (42 episodes)\n",
            "Patricia Zentilli plays Bunny Prie (42 episodes)\n",
            "Lex Gigeroff plays Bound Man  (42 episodes)\n",
            "Rolf Kanies plays Reginald J (42 episodes)\n",
            "Louise Wischermann plays Lyekka / . (42 episodes)\n"
          ]
        }
      ]
    },
    {
      "cell_type": "markdown",
      "source": [
        "Ex. 3 - create a Python API to the IMDb database using classes"
      ],
      "metadata": {
        "id": "MmF-9nEOVWJ0"
      }
    },
    {
      "cell_type": "code",
      "source": [
        "class TvSeries:\n",
        "  def __init__(self, id):\n",
        "    url = f'https://imdb-api.com/en/API/Title/{API_KEY}/{id}'\n",
        "    response = requests.request(\"GET\", url, headers={}, data={})\n",
        "    data = json.loads(response.text)\n",
        "    self.id = id\n",
        "    self.title=data['title']\n",
        "    self.year=data['year']\n",
        "  \n",
        "  def __str__(self):\n",
        "    return f'{self.title} ({self.year})'\n",
        "\n",
        "\n",
        "lexx = TvSeries(id='tt0115243')\n",
        "print(lexx)\n",
        "\n",
        "some_series = TvSeries('tt0110413')\n",
        "print(some_series)"
      ],
      "metadata": {
        "id": "wysEkwYeVfiX",
        "outputId": "40bbc21e-5a6b-427a-f7ea-ff214a499ce9",
        "colab": {
          "base_uri": "https://localhost:8080/"
        }
      },
      "execution_count": 35,
      "outputs": [
        {
          "output_type": "stream",
          "name": "stdout",
          "text": [
            "Lexx (1996)\n",
            "Léon: The Professional (1994)\n"
          ]
        }
      ]
    }
  ]
}